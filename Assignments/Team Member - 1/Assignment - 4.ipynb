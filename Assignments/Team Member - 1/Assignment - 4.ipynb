{
  "nbformat": 4,
  "nbformat_minor": 0,
  "metadata": {
    "colab": {
      "provenance": []
    },
    "kernelspec": {
      "name": "python3",
      "display_name": "Python 3"
    },
    "language_info": {
      "name": "python"
    }
  },
  "cells": [
    {
      "cell_type": "code",
      "execution_count": 7,
      "metadata": {
        "colab": {
          "base_uri": "https://localhost:8080/"
        },
        "id": "21H-ljZ1y2Q1",
        "outputId": "08b5f62a-d23a-4d69-bbae-f16a3a2d6282"
      },
      "outputs": [
        {
          "output_type": "stream",
          "name": "stdout",
          "text": [
            "Task 1: Joined List: [1, 2, 3, 4, 5, 6, 7, 8]\n"
          ]
        }
      ],
      "source": [
        "# Task 1: Create two lists and join them\n",
        "list1 = [1, 2, 3, 4]\n",
        "list2 = [5, 6, 7, 8]\n",
        "joined_list = list1 + list2\n",
        "print(\"Task 1: Joined List:\", joined_list)\n"
      ]
    },
    {
      "cell_type": "code",
      "source": [
        "# Task 2: Use an if statement to find even numbers in the joined list\n",
        "even_numbers = [x for x in joined_list if x % 2 == 0]\n",
        "\n",
        "print(\"Task 2: Even Numbers in the Joined List:\", even_numbers)"
      ],
      "metadata": {
        "colab": {
          "base_uri": "https://localhost:8080/"
        },
        "id": "uQFzcte3zEb_",
        "outputId": "615fdd6d-a826-485c-bdef-16f5cbe26d24"
      },
      "execution_count": 8,
      "outputs": [
        {
          "output_type": "stream",
          "name": "stdout",
          "text": [
            "Task 2: Even Numbers in the Joined List: [2, 4, 6, 8]\n"
          ]
        }
      ]
    },
    {
      "cell_type": "code",
      "source": [
        "# Task 3: Create a dictionary with 3 keys, each having 2 values\n",
        "my_dict = {\n",
        "    \"key1\": [\"value1a\", \"value1b\"],\n",
        "    \"key2\": [\"value2a\", \"value2b\"],\n",
        "    \"key3\": [\"value3a\", \"value3b\"]\n",
        "}\n",
        "\n",
        "# Output for Task 3\n",
        "print(\"Task 3: Dictionary:\", my_dict)"
      ],
      "metadata": {
        "colab": {
          "base_uri": "https://localhost:8080/"
        },
        "id": "TvyePCSKzSQq",
        "outputId": "fd65b2a0-f16f-4164-b63c-2ae9489cbf83"
      },
      "execution_count": 13,
      "outputs": [
        {
          "output_type": "stream",
          "name": "stdout",
          "text": [
            "Task 3: Dictionary: {'key1': ['value1a', 'value1b'], 'key2': ['value2a', 'value2b'], 'key3': ['value3a', 'value3b']}\n"
          ]
        }
      ]
    },
    {
      "cell_type": "code",
      "source": [
        "# Task 4: Create a function to find odd numbers using an if statement\n",
        "def find_odd_numbers(numbers):\n",
        "    odd_numbers = [x for x in numbers if x % 2 != 0]\n",
        "    return odd_numbers\n",
        "\n",
        "# Sample List\n",
        "sample_list = [8, 2, 3, 0, 7]\n",
        "\n",
        "# Task 4: Find odd numbers in the sample list using the function\n",
        "odd_numbers = find_odd_numbers(sample_list)\n",
        "\n",
        "# Output for Task 4\n",
        "print(\"Task 4: Odd Numbers in the Sample List:\", odd_numbers)"
      ],
      "metadata": {
        "colab": {
          "base_uri": "https://localhost:8080/"
        },
        "id": "t9HPMO7vzZxz",
        "outputId": "156bb8a2-91e3-45e3-e735-96296800de39"
      },
      "execution_count": 16,
      "outputs": [
        {
          "output_type": "stream",
          "name": "stdout",
          "text": [
            "Task 4: Odd Numbers in the Sample List: [3, 7]\n"
          ]
        }
      ]
    },
    {
      "cell_type": "code",
      "source": [
        "# Task 5: Write a function to sum all numbers in a list\n",
        "def sum_list(numbers):\n",
        "    total = sum(numbers)\n",
        "    return total\n",
        "\n",
        "# Task 5: Sum the numbers in the sample list using the function\n",
        "total_sum = sum_list(sample_list)\n",
        "\n",
        "# Output for Task 5\n",
        "print(\"Task 5: Sum of Numbers in the Sample List:\", total_sum)"
      ],
      "metadata": {
        "colab": {
          "base_uri": "https://localhost:8080/"
        },
        "id": "ihNgUddR0BeX",
        "outputId": "301f57b6-1037-4a85-cbfe-78e960e4989c"
      },
      "execution_count": 17,
      "outputs": [
        {
          "output_type": "stream",
          "name": "stdout",
          "text": [
            "Task 5: Sum of Numbers in the Sample List: 20\n"
          ]
        }
      ]
    }
  ]
}